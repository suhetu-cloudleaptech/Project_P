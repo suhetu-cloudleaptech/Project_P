{
 "cells": [
  {
   "cell_type": "code",
   "execution_count": 17,
   "id": "64158bb3",
   "metadata": {},
   "outputs": [],
   "source": [
    "import requests\n",
    "\n",
    "params = {\n",
    "    'fields': 'name,id,posts',\n",
    "    'access_token': 'XXX',\n",
    "}\n",
    "\n",
    "response = requests.get('https://graph.facebook.com/v16.0/644382747/', params=params)"
   ]
  },
  {
   "cell_type": "code",
   "execution_count": 19,
   "id": "38c8804a",
   "metadata": {},
   "outputs": [
    {
     "data": {
      "text/plain": [
       "'{\"name\":\"Matthew A. Russell\",\"id\":\"644382747\"}'"
      ]
     },
     "execution_count": 19,
     "metadata": {},
     "output_type": "execute_result"
    }
   ],
   "source": [
    "response.text"
   ]
  },
  {
   "cell_type": "code",
   "execution_count": null,
   "id": "ab37cd64",
   "metadata": {},
   "outputs": [],
   "source": []
  }
 ],
 "metadata": {
  "kernelspec": {
   "display_name": "Python 3 (ipykernel)",
   "language": "python",
   "name": "python3"
  },
  "language_info": {
   "codemirror_mode": {
    "name": "ipython",
    "version": 3
   },
   "file_extension": ".py",
   "mimetype": "text/x-python",
   "name": "python",
   "nbconvert_exporter": "python",
   "pygments_lexer": "ipython3",
   "version": "3.8.10"
  }
 },
 "nbformat": 4,
 "nbformat_minor": 5
}
